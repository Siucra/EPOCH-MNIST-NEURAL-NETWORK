{
 "cells": [
  {
   "cell_type": "markdown",
   "id": "e11fa6bc",
   "metadata": {},
   "source": [
    "# MNIST Digit Classification with TensorFlow\n",
    "\n",
    "In this notebook, we’ll learn how to build a neural network to classify handwritten digits from the MNIST dataset using TensorFlow and Keras."
   ]
  },
  {
   "cell_type": "markdown",
   "id": "50d02cf0",
   "metadata": {},
   "source": [
    "# 🧠 Core Concepts in Neural Networks \n",
    "\n",
    "---\n",
    "\n",
    "## 1. **Layers in Neural Networks**\n",
    "\n",
    "A **layer** is a collection of neurons that process input data and pass it to the next layer.\n",
    "\n",
    "* **Input Layer**: Accepts raw input (e.g., 784 pixels for a 28×28 image).\n",
    "* **Hidden Layers**: Extract features and learn complex patterns.\n",
    "* **Output Layer**: Produces the final prediction (e.g., 10 classes for digits 0–9).\n",
    "\n",
    "### How to decide number of layers/neurons?\n",
    "\n",
    "* **Shallow networks** (1–2 hidden layers) → good for simple datasets like MNIST.\n",
    "* **Deep networks** (many hidden layers) → needed for complex tasks like image recognition or NLP.\n",
    "* **Number of neurons**: Often chosen by experimentation. Start with powers of 2 (64, 128, 256).\n",
    "* Rule of thumb: More neurons = more capacity, but too many → overfitting & slower training.\n",
    "\n",
    "---\n",
    "\n",
    "## 2. **Activation Functions**\n",
    "\n",
    "Activation functions decide how a neuron “fires” by applying a transformation to the weighted sum of inputs. They introduce **non-linearity**, allowing the network to learn complex patterns.\n",
    "\n",
    "### Common Activation Functions:\n",
    "\n",
    "1. **Sigmoid**\n",
    "\n",
    "   $$\n",
    "   f(x) = \\frac{1}{1 + e^{-x}}\n",
    "   $$\n",
    "\n",
    "   * Outputs between (0,1).\n",
    "   * Pros: Useful for probabilities.\n",
    "   * Cons: Vanishing gradient problem (slows learning in deep networks).\n",
    "   * Use case: Binary classification (output layer).\n",
    "\n",
    "\n",
    "\n",
    "2. **Tanh (Hyperbolic Tangent)**\n",
    "\n",
    "   $$\n",
    "   f(x) = \\tanh(x) = \\frac{e^x - e^{-x}}{e^x + e^{-x}}\n",
    "   $$\n",
    "\n",
    "   * Outputs between (-1,1).\n",
    "   * Pros: Centered at 0 → better than sigmoid.\n",
    "   * Cons: Still suffers from vanishing gradients.\n",
    "   * Use case: Sometimes used in hidden layers for small networks.\n",
    "\n",
    "\n",
    "\n",
    "3. **ReLU (Rectified Linear Unit)**\n",
    "\n",
    "   $$\n",
    "   f(x) = \\max(0, x)\n",
    "   $$\n",
    "\n",
    "   * Outputs positive values or 0.\n",
    "   * Pros: Simple, fast, solves vanishing gradient problem.\n",
    "   * Cons: “Dead ReLU” problem (neurons stuck at 0).\n",
    "   * Use case: Most popular in hidden layers.\n",
    "\n",
    "\n",
    "\n",
    "4. **Leaky ReLU**\n",
    "\n",
    "   $$\n",
    "   f(x) = \\begin{cases}\n",
    "   x & \\text{if } x > 0 \\\\\n",
    "   \\alpha x & \\text{if } x \\leq 0\n",
    "   \\end{cases}\n",
    "   $$\n",
    "\n",
    "   * Allows small negative slope ($\\alpha \\approx 0.01$) instead of 0.\n",
    "   * Solves “dead ReLU” problem.\n",
    "   * Use case: Alternative to ReLU when neurons die.\n",
    "\n",
    "\n",
    "5. **Softmax**\n",
    "\n",
    "   $$\n",
    "   f(x_i) = \\frac{e^{x_i}}{\\sum_{j} e^{x_j}}\n",
    "   $$\n",
    "\n",
    "   * Converts outputs into probabilities that sum to 1.\n",
    "   * Use case: Multi-class classification (e.g., digits 0–9).\n",
    "\n",
    "---\n",
    "\n",
    "## 3. **Optimizers**\n",
    "\n",
    "Optimizers decide **how weights are updated** during training to minimize loss.\n",
    "\n",
    "### Common Optimizers:\n",
    "\n",
    "1. **Gradient Descent**\n",
    "\n",
    "   * Updates weights by moving opposite to gradient.\n",
    "   * Slow in practice.\n",
    "\n",
    "\n",
    "\n",
    "2. **SGD (Stochastic Gradient Descent)**\n",
    "\n",
    "   * Updates weights using small random batches instead of whole dataset.\n",
    "   * Faster than vanilla gradient descent.\n",
    "   * Use case: Baseline optimizer.\n",
    "\n",
    "\n",
    "3. **Momentum**\n",
    "\n",
    "   * Adds a “velocity” term to SGD → smoother & faster convergence.\n",
    "\n",
    "\n",
    "\n",
    "4. **Adam (Adaptive Moment Estimation)**\n",
    "\n",
    "   * Combines momentum + adaptive learning rates.\n",
    "   * Adjusts learning rate for each parameter individually.\n",
    "   * Fast, robust, most widely used.\n",
    "   * Use case: Default choice for most problems.\n",
    "\n",
    "\n",
    "5. **RMSProp**\n",
    "\n",
    "   * Keeps moving average of squared gradients.\n",
    "   * Works well for RNNs.\n",
    "\n",
    "---\n",
    "\n",
    "## 4. **Loss Functions**\n",
    "\n",
    "Loss functions measure **how wrong the model is** → guide optimization.\n",
    "\n",
    "### Common Loss Functions:\n",
    "\n",
    "1. **Mean Squared Error (MSE)**\n",
    "\n",
    "   $$\n",
    "   L = \\frac{1}{n}\\sum (y_{true} - y_{pred})^2\n",
    "   $$\n",
    "\n",
    "   * Used for regression (predicting numbers).\n",
    "\n",
    "\n",
    "2. **Binary Crossentropy**\n",
    "\n",
    "   $$\n",
    "   L = -\\frac{1}{n}\\sum \\Big[ y\\log(p) + (1-y)\\log(1-p) \\Big]\n",
    "   $$\n",
    "\n",
    "   * For binary classification (yes/no).\n",
    "\n",
    "\n",
    "\n",
    "3. **Categorical Crossentropy**\n",
    "\n",
    "   $$\n",
    "   L = -\\sum y_i \\log(p_i)\n",
    "   $$\n",
    "\n",
    "   * Used when labels are one-hot encoded (e.g., `[0,0,1,0,0]`).\n",
    "\n",
    "\n",
    "4. **Sparse Categorical Crossentropy**\n",
    "\n",
    "   * Same as above but labels are integers (0–9).\n",
    "   * Use case: MNIST digit classification.\n",
    "\n",
    "---\n",
    "\n",
    "## 5. **Metrics**\n",
    "\n",
    "Metrics are **performance measures** (not used for training, just reporting).\n",
    "\n",
    "* **Accuracy**: Fraction of correct predictions.\n",
    "* **Precision/Recall/F1**: Used when classes are imbalanced.\n",
    "* **AUC (Area Under Curve)**: Used in binary classification (ROC curve).\n",
    "\n"
   ]
  },
  {
   "cell_type": "markdown",
   "id": "b98ca40c",
   "metadata": {},
   "source": [
    "## **Code** "
   ]
  },
  {
   "cell_type": "code",
   "execution_count": 2,
   "id": "7c72b050",
   "metadata": {},
   "outputs": [
    {
     "name": "stdout",
     "output_type": "stream",
     "text": [
      "Requirement already satisfied: tensorflow in c:\\users\\05den\\anaconda3\\envs\\epochdevwks1\\lib\\site-packages (2.20.0)\n",
      "Requirement already satisfied: absl-py>=1.0.0 in c:\\users\\05den\\anaconda3\\envs\\epochdevwks1\\lib\\site-packages (from tensorflow) (2.3.1)\n",
      "Requirement already satisfied: astunparse>=1.6.0 in c:\\users\\05den\\anaconda3\\envs\\epochdevwks1\\lib\\site-packages (from tensorflow) (1.6.3)\n",
      "Requirement already satisfied: flatbuffers>=24.3.25 in c:\\users\\05den\\anaconda3\\envs\\epochdevwks1\\lib\\site-packages (from tensorflow) (25.9.23)\n",
      "Requirement already satisfied: gast!=0.5.0,!=0.5.1,!=0.5.2,>=0.2.1 in c:\\users\\05den\\anaconda3\\envs\\epochdevwks1\\lib\\site-packages (from tensorflow) (0.6.0)\n",
      "Requirement already satisfied: google_pasta>=0.1.1 in c:\\users\\05den\\anaconda3\\envs\\epochdevwks1\\lib\\site-packages (from tensorflow) (0.2.0)\n",
      "Requirement already satisfied: libclang>=13.0.0 in c:\\users\\05den\\anaconda3\\envs\\epochdevwks1\\lib\\site-packages (from tensorflow) (18.1.1)\n",
      "Requirement already satisfied: opt_einsum>=2.3.2 in c:\\users\\05den\\anaconda3\\envs\\epochdevwks1\\lib\\site-packages (from tensorflow) (3.4.0)\n",
      "Requirement already satisfied: packaging in c:\\users\\05den\\anaconda3\\envs\\epochdevwks1\\lib\\site-packages (from tensorflow) (25.0)\n",
      "Requirement already satisfied: protobuf>=5.28.0 in c:\\users\\05den\\anaconda3\\envs\\epochdevwks1\\lib\\site-packages (from tensorflow) (6.33.0)\n",
      "Requirement already satisfied: requests<3,>=2.21.0 in c:\\users\\05den\\anaconda3\\envs\\epochdevwks1\\lib\\site-packages (from tensorflow) (2.32.5)\n",
      "Requirement already satisfied: setuptools in c:\\users\\05den\\anaconda3\\envs\\epochdevwks1\\lib\\site-packages (from tensorflow) (80.9.0)\n",
      "Requirement already satisfied: six>=1.12.0 in c:\\users\\05den\\anaconda3\\envs\\epochdevwks1\\lib\\site-packages (from tensorflow) (1.17.0)\n",
      "Requirement already satisfied: termcolor>=1.1.0 in c:\\users\\05den\\anaconda3\\envs\\epochdevwks1\\lib\\site-packages (from tensorflow) (3.1.0)\n",
      "Requirement already satisfied: typing_extensions>=3.6.6 in c:\\users\\05den\\anaconda3\\envs\\epochdevwks1\\lib\\site-packages (from tensorflow) (4.14.1)\n",
      "Requirement already satisfied: wrapt>=1.11.0 in c:\\users\\05den\\anaconda3\\envs\\epochdevwks1\\lib\\site-packages (from tensorflow) (1.17.3)\n",
      "Requirement already satisfied: grpcio<2.0,>=1.24.3 in c:\\users\\05den\\anaconda3\\envs\\epochdevwks1\\lib\\site-packages (from tensorflow) (1.75.1)\n",
      "Requirement already satisfied: tensorboard~=2.20.0 in c:\\users\\05den\\anaconda3\\envs\\epochdevwks1\\lib\\site-packages (from tensorflow) (2.20.0)\n",
      "Requirement already satisfied: keras>=3.10.0 in c:\\users\\05den\\anaconda3\\envs\\epochdevwks1\\lib\\site-packages (from tensorflow) (3.10.0)\n",
      "Requirement already satisfied: numpy>=1.26.0 in c:\\users\\05den\\anaconda3\\envs\\epochdevwks1\\lib\\site-packages (from tensorflow) (2.0.2)\n",
      "Requirement already satisfied: h5py>=3.11.0 in c:\\users\\05den\\anaconda3\\envs\\epochdevwks1\\lib\\site-packages (from tensorflow) (3.14.0)\n",
      "Requirement already satisfied: ml_dtypes<1.0.0,>=0.5.1 in c:\\users\\05den\\anaconda3\\envs\\epochdevwks1\\lib\\site-packages (from tensorflow) (0.5.3)\n",
      "Requirement already satisfied: charset_normalizer<4,>=2 in c:\\users\\05den\\anaconda3\\envs\\epochdevwks1\\lib\\site-packages (from requests<3,>=2.21.0->tensorflow) (3.4.4)\n",
      "Requirement already satisfied: idna<4,>=2.5 in c:\\users\\05den\\anaconda3\\envs\\epochdevwks1\\lib\\site-packages (from requests<3,>=2.21.0->tensorflow) (3.11)\n",
      "Requirement already satisfied: urllib3<3,>=1.21.1 in c:\\users\\05den\\anaconda3\\envs\\epochdevwks1\\lib\\site-packages (from requests<3,>=2.21.0->tensorflow) (2.5.0)\n",
      "Requirement already satisfied: certifi>=2017.4.17 in c:\\users\\05den\\anaconda3\\envs\\epochdevwks1\\lib\\site-packages (from requests<3,>=2.21.0->tensorflow) (2025.10.5)\n",
      "Requirement already satisfied: markdown>=2.6.8 in c:\\users\\05den\\anaconda3\\envs\\epochdevwks1\\lib\\site-packages (from tensorboard~=2.20.0->tensorflow) (3.9)\n",
      "Requirement already satisfied: pillow in c:\\users\\05den\\anaconda3\\envs\\epochdevwks1\\lib\\site-packages (from tensorboard~=2.20.0->tensorflow) (11.3.0)\n",
      "Requirement already satisfied: tensorboard-data-server<0.8.0,>=0.7.0 in c:\\users\\05den\\anaconda3\\envs\\epochdevwks1\\lib\\site-packages (from tensorboard~=2.20.0->tensorflow) (0.7.2)\n",
      "Requirement already satisfied: werkzeug>=1.0.1 in c:\\users\\05den\\anaconda3\\envs\\epochdevwks1\\lib\\site-packages (from tensorboard~=2.20.0->tensorflow) (3.1.3)\n",
      "Requirement already satisfied: wheel<1.0,>=0.23.0 in c:\\users\\05den\\anaconda3\\envs\\epochdevwks1\\lib\\site-packages (from astunparse>=1.6.0->tensorflow) (0.45.1)\n",
      "Requirement already satisfied: rich in c:\\users\\05den\\anaconda3\\envs\\epochdevwks1\\lib\\site-packages (from keras>=3.10.0->tensorflow) (14.2.0)\n",
      "Requirement already satisfied: namex in c:\\users\\05den\\anaconda3\\envs\\epochdevwks1\\lib\\site-packages (from keras>=3.10.0->tensorflow) (0.1.0)\n",
      "Requirement already satisfied: optree in c:\\users\\05den\\anaconda3\\envs\\epochdevwks1\\lib\\site-packages (from keras>=3.10.0->tensorflow) (0.17.0)\n",
      "Requirement already satisfied: importlib-metadata>=4.4 in c:\\users\\05den\\anaconda3\\envs\\epochdevwks1\\lib\\site-packages (from markdown>=2.6.8->tensorboard~=2.20.0->tensorflow) (8.7.0)\n",
      "Requirement already satisfied: zipp>=3.20 in c:\\users\\05den\\anaconda3\\envs\\epochdevwks1\\lib\\site-packages (from importlib-metadata>=4.4->markdown>=2.6.8->tensorboard~=2.20.0->tensorflow) (3.23.0)\n",
      "Requirement already satisfied: MarkupSafe>=2.1.1 in c:\\users\\05den\\anaconda3\\envs\\epochdevwks1\\lib\\site-packages (from werkzeug>=1.0.1->tensorboard~=2.20.0->tensorflow) (3.0.3)\n",
      "Requirement already satisfied: markdown-it-py>=2.2.0 in c:\\users\\05den\\anaconda3\\envs\\epochdevwks1\\lib\\site-packages (from rich->keras>=3.10.0->tensorflow) (3.0.0)\n",
      "Requirement already satisfied: pygments<3.0.0,>=2.13.0 in c:\\users\\05den\\anaconda3\\envs\\epochdevwks1\\lib\\site-packages (from rich->keras>=3.10.0->tensorflow) (2.19.2)\n",
      "Requirement already satisfied: mdurl~=0.1 in c:\\users\\05den\\anaconda3\\envs\\epochdevwks1\\lib\\site-packages (from markdown-it-py>=2.2.0->rich->keras>=3.10.0->tensorflow) (0.1.2)\n",
      "Requirement already satisfied: matplotlib in c:\\users\\05den\\anaconda3\\envs\\epochdevwks1\\lib\\site-packages (3.9.4)\n",
      "Requirement already satisfied: contourpy>=1.0.1 in c:\\users\\05den\\anaconda3\\envs\\epochdevwks1\\lib\\site-packages (from matplotlib) (1.3.0)\n",
      "Requirement already satisfied: cycler>=0.10 in c:\\users\\05den\\anaconda3\\envs\\epochdevwks1\\lib\\site-packages (from matplotlib) (0.12.1)\n",
      "Requirement already satisfied: fonttools>=4.22.0 in c:\\users\\05den\\anaconda3\\envs\\epochdevwks1\\lib\\site-packages (from matplotlib) (4.60.1)\n",
      "Requirement already satisfied: kiwisolver>=1.3.1 in c:\\users\\05den\\anaconda3\\envs\\epochdevwks1\\lib\\site-packages (from matplotlib) (1.4.7)\n",
      "Requirement already satisfied: numpy>=1.23 in c:\\users\\05den\\anaconda3\\envs\\epochdevwks1\\lib\\site-packages (from matplotlib) (2.0.2)\n",
      "Requirement already satisfied: packaging>=20.0 in c:\\users\\05den\\anaconda3\\envs\\epochdevwks1\\lib\\site-packages (from matplotlib) (25.0)\n",
      "Requirement already satisfied: pillow>=8 in c:\\users\\05den\\anaconda3\\envs\\epochdevwks1\\lib\\site-packages (from matplotlib) (11.3.0)\n",
      "Requirement already satisfied: pyparsing>=2.3.1 in c:\\users\\05den\\anaconda3\\envs\\epochdevwks1\\lib\\site-packages (from matplotlib) (3.2.5)\n",
      "Requirement already satisfied: python-dateutil>=2.7 in c:\\users\\05den\\anaconda3\\envs\\epochdevwks1\\lib\\site-packages (from matplotlib) (2.9.0.post0)\n",
      "Requirement already satisfied: importlib-resources>=3.2.0 in c:\\users\\05den\\anaconda3\\envs\\epochdevwks1\\lib\\site-packages (from matplotlib) (6.5.2)\n",
      "Requirement already satisfied: zipp>=3.1.0 in c:\\users\\05den\\anaconda3\\envs\\epochdevwks1\\lib\\site-packages (from importlib-resources>=3.2.0->matplotlib) (3.23.0)\n",
      "Requirement already satisfied: six>=1.5 in c:\\users\\05den\\anaconda3\\envs\\epochdevwks1\\lib\\site-packages (from python-dateutil>=2.7->matplotlib) (1.17.0)\n",
      "Requirement already satisfied: numpy in c:\\users\\05den\\anaconda3\\envs\\epochdevwks1\\lib\\site-packages (2.0.2)\n"
     ]
    }
   ],
   "source": [
    "!pip install tensorflow\n",
    "!pip install matplotlib\n",
    "!pip install numpy "
   ]
  },
  {
   "cell_type": "code",
   "execution_count": 3,
   "id": "dc900794",
   "metadata": {},
   "outputs": [],
   "source": [
    "import tensorflow as tf\n",
    "from tensorflow.keras import layers, models\n",
    "from tensorflow.keras.datasets import mnist\n",
    "import matplotlib.pyplot as plt\n",
    "import numpy as np"
   ]
  },
  {
   "cell_type": "code",
   "execution_count": 4,
   "id": "0403834e",
   "metadata": {},
   "outputs": [],
   "source": [
    "# Load the MNIST dataset\n",
    "(x_train, y_train), (x_test, y_test) = mnist.load_data()"
   ]
  },
  {
   "cell_type": "code",
   "execution_count": 5,
   "id": "ccd3c344",
   "metadata": {},
   "outputs": [],
   "source": [
    "# Normalize and reshape\n",
    "x_train = x_train.reshape(-1, 784).astype('float32') / 255.0\n",
    "x_test = x_test.reshape(-1, 784).astype('float32') / 255.0"
   ]
  },
  {
   "cell_type": "code",
   "execution_count": 6,
   "id": "51d131f4",
   "metadata": {},
   "outputs": [
    {
     "name": "stdout",
     "output_type": "stream",
     "text": [
      "Training samples: (60000, 784), Test samples: (10000, 784)\n"
     ]
    }
   ],
   "source": [
    "#Sanity Check\n",
    "print(f\"Training samples: {x_train.shape}, Test samples: {x_test.shape}\")"
   ]
  },
  {
   "cell_type": "code",
   "execution_count": 7,
   "id": "67552081",
   "metadata": {},
   "outputs": [
    {
     "name": "stderr",
     "output_type": "stream",
     "text": [
      "c:\\Users\\05den\\anaconda3\\envs\\EpochDevWKS1\\lib\\site-packages\\keras\\src\\layers\\core\\dense.py:93: UserWarning: Do not pass an `input_shape`/`input_dim` argument to a layer. When using Sequential models, prefer using an `Input(shape)` object as the first layer in the model instead.\n",
      "  super().__init__(activity_regularizer=activity_regularizer, **kwargs)\n"
     ]
    },
    {
     "data": {
      "text/html": [
       "<pre style=\"white-space:pre;overflow-x:auto;line-height:normal;font-family:Menlo,'DejaVu Sans Mono',consolas,'Courier New',monospace\"><span style=\"font-weight: bold\">Model: \"sequential\"</span>\n",
       "</pre>\n"
      ],
      "text/plain": [
       "\u001b[1mModel: \"sequential\"\u001b[0m\n"
      ]
     },
     "metadata": {},
     "output_type": "display_data"
    },
    {
     "data": {
      "text/html": [
       "<pre style=\"white-space:pre;overflow-x:auto;line-height:normal;font-family:Menlo,'DejaVu Sans Mono',consolas,'Courier New',monospace\">┏━━━━━━━━━━━━━━━━━━━━━━━━━━━━━━━━━┳━━━━━━━━━━━━━━━━━━━━━━━━┳━━━━━━━━━━━━━━━┓\n",
       "┃<span style=\"font-weight: bold\"> Layer (type)                    </span>┃<span style=\"font-weight: bold\"> Output Shape           </span>┃<span style=\"font-weight: bold\">       Param # </span>┃\n",
       "┡━━━━━━━━━━━━━━━━━━━━━━━━━━━━━━━━━╇━━━━━━━━━━━━━━━━━━━━━━━━╇━━━━━━━━━━━━━━━┩\n",
       "│ dense (<span style=\"color: #0087ff; text-decoration-color: #0087ff\">Dense</span>)                   │ (<span style=\"color: #00d7ff; text-decoration-color: #00d7ff\">None</span>, <span style=\"color: #00af00; text-decoration-color: #00af00\">128</span>)            │       <span style=\"color: #00af00; text-decoration-color: #00af00\">100,480</span> │\n",
       "├─────────────────────────────────┼────────────────────────┼───────────────┤\n",
       "│ dense_1 (<span style=\"color: #0087ff; text-decoration-color: #0087ff\">Dense</span>)                 │ (<span style=\"color: #00d7ff; text-decoration-color: #00d7ff\">None</span>, <span style=\"color: #00af00; text-decoration-color: #00af00\">64</span>)             │         <span style=\"color: #00af00; text-decoration-color: #00af00\">8,256</span> │\n",
       "├─────────────────────────────────┼────────────────────────┼───────────────┤\n",
       "│ dense_2 (<span style=\"color: #0087ff; text-decoration-color: #0087ff\">Dense</span>)                 │ (<span style=\"color: #00d7ff; text-decoration-color: #00d7ff\">None</span>, <span style=\"color: #00af00; text-decoration-color: #00af00\">10</span>)             │           <span style=\"color: #00af00; text-decoration-color: #00af00\">650</span> │\n",
       "└─────────────────────────────────┴────────────────────────┴───────────────┘\n",
       "</pre>\n"
      ],
      "text/plain": [
       "┏━━━━━━━━━━━━━━━━━━━━━━━━━━━━━━━━━┳━━━━━━━━━━━━━━━━━━━━━━━━┳━━━━━━━━━━━━━━━┓\n",
       "┃\u001b[1m \u001b[0m\u001b[1mLayer (type)                   \u001b[0m\u001b[1m \u001b[0m┃\u001b[1m \u001b[0m\u001b[1mOutput Shape          \u001b[0m\u001b[1m \u001b[0m┃\u001b[1m \u001b[0m\u001b[1m      Param #\u001b[0m\u001b[1m \u001b[0m┃\n",
       "┡━━━━━━━━━━━━━━━━━━━━━━━━━━━━━━━━━╇━━━━━━━━━━━━━━━━━━━━━━━━╇━━━━━━━━━━━━━━━┩\n",
       "│ dense (\u001b[38;5;33mDense\u001b[0m)                   │ (\u001b[38;5;45mNone\u001b[0m, \u001b[38;5;34m128\u001b[0m)            │       \u001b[38;5;34m100,480\u001b[0m │\n",
       "├─────────────────────────────────┼────────────────────────┼───────────────┤\n",
       "│ dense_1 (\u001b[38;5;33mDense\u001b[0m)                 │ (\u001b[38;5;45mNone\u001b[0m, \u001b[38;5;34m64\u001b[0m)             │         \u001b[38;5;34m8,256\u001b[0m │\n",
       "├─────────────────────────────────┼────────────────────────┼───────────────┤\n",
       "│ dense_2 (\u001b[38;5;33mDense\u001b[0m)                 │ (\u001b[38;5;45mNone\u001b[0m, \u001b[38;5;34m10\u001b[0m)             │           \u001b[38;5;34m650\u001b[0m │\n",
       "└─────────────────────────────────┴────────────────────────┴───────────────┘\n"
      ]
     },
     "metadata": {},
     "output_type": "display_data"
    },
    {
     "data": {
      "text/html": [
       "<pre style=\"white-space:pre;overflow-x:auto;line-height:normal;font-family:Menlo,'DejaVu Sans Mono',consolas,'Courier New',monospace\"><span style=\"font-weight: bold\"> Total params: </span><span style=\"color: #00af00; text-decoration-color: #00af00\">109,386</span> (427.29 KB)\n",
       "</pre>\n"
      ],
      "text/plain": [
       "\u001b[1m Total params: \u001b[0m\u001b[38;5;34m109,386\u001b[0m (427.29 KB)\n"
      ]
     },
     "metadata": {},
     "output_type": "display_data"
    },
    {
     "data": {
      "text/html": [
       "<pre style=\"white-space:pre;overflow-x:auto;line-height:normal;font-family:Menlo,'DejaVu Sans Mono',consolas,'Courier New',monospace\"><span style=\"font-weight: bold\"> Trainable params: </span><span style=\"color: #00af00; text-decoration-color: #00af00\">109,386</span> (427.29 KB)\n",
       "</pre>\n"
      ],
      "text/plain": [
       "\u001b[1m Trainable params: \u001b[0m\u001b[38;5;34m109,386\u001b[0m (427.29 KB)\n"
      ]
     },
     "metadata": {},
     "output_type": "display_data"
    },
    {
     "data": {
      "text/html": [
       "<pre style=\"white-space:pre;overflow-x:auto;line-height:normal;font-family:Menlo,'DejaVu Sans Mono',consolas,'Courier New',monospace\"><span style=\"font-weight: bold\"> Non-trainable params: </span><span style=\"color: #00af00; text-decoration-color: #00af00\">0</span> (0.00 B)\n",
       "</pre>\n"
      ],
      "text/plain": [
       "\u001b[1m Non-trainable params: \u001b[0m\u001b[38;5;34m0\u001b[0m (0.00 B)\n"
      ]
     },
     "metadata": {},
     "output_type": "display_data"
    }
   ],
   "source": [
    "# 🔧 Try changing layer sizes and activation functions\n",
    "model = models.Sequential([\n",
    "    layers.Dense(128, activation='relu', input_shape=(784,)),\n",
    "    layers.Dense(64, activation='relu'),\n",
    "    layers.Dense(10, activation='softmax')\n",
    "])\n",
    "\n",
    "model.summary()"
   ]
  },
  {
   "cell_type": "code",
   "execution_count": 24,
   "id": "9a2e85ff",
   "metadata": {},
   "outputs": [
    {
     "name": "stdout",
     "output_type": "stream",
     "text": [
      "Epoch 1/5\n",
      "\u001b[1m213/213\u001b[0m \u001b[32m━━━━━━━━━━━━━━━━━━━━\u001b[0m\u001b[37m\u001b[0m \u001b[1m4s\u001b[0m 8ms/step - accuracy: 0.9977 - loss: 0.0095 - val_accuracy: 0.9790 - val_loss: 0.0846\n",
      "Epoch 2/5\n",
      "\u001b[1m213/213\u001b[0m \u001b[32m━━━━━━━━━━━━━━━━━━━━\u001b[0m\u001b[37m\u001b[0m \u001b[1m2s\u001b[0m 7ms/step - accuracy: 0.9980 - loss: 0.0080 - val_accuracy: 0.9808 - val_loss: 0.0845\n",
      "Epoch 3/5\n",
      "\u001b[1m213/213\u001b[0m \u001b[32m━━━━━━━━━━━━━━━━━━━━\u001b[0m\u001b[37m\u001b[0m \u001b[1m2s\u001b[0m 7ms/step - accuracy: 0.9983 - loss: 0.0069 - val_accuracy: 0.9792 - val_loss: 0.0877\n",
      "Epoch 4/5\n",
      "\u001b[1m213/213\u001b[0m \u001b[32m━━━━━━━━━━━━━━━━━━━━\u001b[0m\u001b[37m\u001b[0m \u001b[1m2s\u001b[0m 7ms/step - accuracy: 0.9985 - loss: 0.0064 - val_accuracy: 0.9817 - val_loss: 0.0876\n",
      "Epoch 5/5\n",
      "\u001b[1m213/213\u001b[0m \u001b[32m━━━━━━━━━━━━━━━━━━━━\u001b[0m\u001b[37m\u001b[0m \u001b[1m2s\u001b[0m 7ms/step - accuracy: 0.9996 - loss: 0.0028 - val_accuracy: 0.9828 - val_loss: 0.0835\n"
     ]
    }
   ],
   "source": [
    "model.compile(optimizer='adam',\n",
    "              loss='sparse_categorical_crossentropy',\n",
    "              metrics=['accuracy'])\n",
    "\n",
    "# 🔁 Try changing epochs or batch size\n",
    "history = model.fit(x_train, y_train,\n",
    "                    validation_split=0.1,\n",
    "                    epochs=5,\n",
    "                    batch_size=254)\n"
   ]
  },
  {
   "cell_type": "code",
   "execution_count": 20,
   "id": "8e8a1927",
   "metadata": {},
   "outputs": [
    {
     "data": {
      "image/png": "[encoded data removed]",
      "text/plain": [
       "<Figure size 640x480 with 1 Axes>"
      ]
     },
     "metadata": {},
     "output_type": "display_data"
    }
   ],
   "source": [
    "plt.plot(history.history['accuracy'], label='train accuracy')\n",
    "plt.plot(history.history['val_accuracy'], label='test accuracy')\n",
    "plt.title(\"Model Accuracy\")\n",
    "plt.xlabel(\"Epoch\")\n",
    "plt.ylabel(\"Accuracy\")\n",
    "plt.legend()\n",
    "plt.grid()\n",
    "plt.show()\n"
   ]
  },
  {
   "cell_type": "code",
   "execution_count": 21,
   "id": "aceef763",
   "metadata": {},
   "outputs": [
    {
     "name": "stdout",
     "output_type": "stream",
     "text": [
      "\u001b[1m313/313\u001b[0m \u001b[32m━━━━━━━━━━━━━━━━━━━━\u001b[0m\u001b[37m\u001b[0m \u001b[1m1s\u001b[0m 5ms/step - accuracy: 0.9772 - loss: 0.0925\n",
      "Test accuracy: 0.9799\n"
     ]
    }
   ],
   "source": [
    "test_loss, test_acc = model.evaluate(x_test, y_test)\n",
    "print(f\"Test accuracy: {test_acc:.4f}\")\n"
   ]
  },
  {
   "cell_type": "code",
   "execution_count": 22,
   "id": "502b88c0",
   "metadata": {},
   "outputs": [
    {
     "name": "stdout",
     "output_type": "stream",
     "text": [
      "\u001b[1m313/313\u001b[0m \u001b[32m━━━━━━━━━━━━━━━━━━━━\u001b[0m\u001b[37m\u001b[0m \u001b[1m1s\u001b[0m 3ms/step\n"
     ]
    },
    {
     "data": {
      "image/png": "[encoded data removed]",
      "text/plain": [
       "<Figure size 640x480 with 1 Axes>"
      ]
     },
     "metadata": {},
     "output_type": "display_data"
    }
   ],
   "source": [
    "predictions = model.predict(x_test)\n",
    "\n",
    "def show_prediction(index):\n",
    "    plt.imshow(x_test[index].reshape(28, 28), cmap='gray')\n",
    "    plt.title(f\"Predicted: {np.argmax(predictions[index])}, True: {y_test[index]}\")\n",
    "    plt.axis('off')\n",
    "    plt.show()\n",
    "\n",
    "# 🔁 Try different indexes!\n",
    "show_prediction(0)\n"
   ]
  },
  {
   "cell_type": "code",
   "execution_count": 25,
   "id": "846f0aa5",
   "metadata": {},
   "outputs": [
    {
     "name": "stderr",
     "output_type": "stream",
     "text": [
      "WARNING:absl:You are saving your model as an HDF5 file via `model.save()` or `keras.saving.save_model(model)`. This file format is considered legacy. We recommend using instead the native Keras format, e.g. `model.save('my_model.keras')` or `keras.saving.save_model(model, 'my_model.keras')`. \n"
     ]
    },
    {
     "name": "stdout",
     "output_type": "stream",
     "text": [
      "✅ Model saved as mnist_digit_classifier.h5\n"
     ]
    }
   ],
   "source": [
    "# Save the trained model\n",
    "model.save(\"mnist_digit_classifier.h5\")\n",
    "print(\"✅ Model saved as mnist_digit_classifier.h5\")\n"
   ]
  },
  {
   "cell_type": "code",
   "execution_count": 13,
   "id": "896fe362",
   "metadata": {},
   "outputs": [
    {
     "name": "stdout",
     "output_type": "stream",
     "text": [
      "\u001b[1m313/313\u001b[0m \u001b[32m━━━━━━━━━━━━━━━━━━━━\u001b[0m\u001b[37m\u001b[0m \u001b[1m1s\u001b[0m 3ms/step\n"
     ]
    }
   ],
   "source": [
    "\n",
    "predictions = model.predict(x_test)"
   ]
  }
 ],
 "metadata": {
  "kernelspec": {
   "display_name": "EpochDevWKS1",
   "language": "python",
   "name": "python3"
  },
  "language_info": {
   "codemirror_mode": {
    "name": "ipython",
    "version": 3
   },
   "file_extension": ".py",
   "mimetype": "text/x-python",
   "name": "python",
   "nbconvert_exporter": "python",
   "pygments_lexer": "ipython3",
   "version": "3.9.24"
  }
 },
 "nbformat": 4,
 "nbformat_minor": 5
}
