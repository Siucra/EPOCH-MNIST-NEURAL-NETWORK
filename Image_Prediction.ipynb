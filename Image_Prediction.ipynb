{
 "cells": [
  {
   "cell_type": "code",
   "execution_count": 3,
   "id": "0032f78d",
   "metadata": {},
   "outputs": [
    {
     "name": "stdout",
     "output_type": "stream",
     "text": [
      "Requirement already satisfied: opencv-python in c:\\users\\05den\\anaconda3\\envs\\epochdevwks1\\lib\\site-packages (4.12.0.88)\n",
      "Requirement already satisfied: numpy<2.3.0,>=2 in c:\\users\\05den\\anaconda3\\envs\\epochdevwks1\\lib\\site-packages (from opencv-python) (2.0.2)\n"
     ]
    }
   ],
   "source": [
    "!pip install opencv-python"
   ]
  },
  {
   "cell_type": "code",
   "execution_count": 1,
   "id": "61ea7147",
   "metadata": {},
   "outputs": [
    {
     "name": "stderr",
     "output_type": "stream",
     "text": [
      "WARNING:absl:Compiled the loaded model, but the compiled metrics have yet to be built. `model.compile_metrics` will be empty until you train or evaluate the model.\n"
     ]
    },
    {
     "name": "stdout",
     "output_type": "stream",
     "text": [
      "\u001b[1m1/1\u001b[0m \u001b[32m━━━━━━━━━━━━━━━━━━━━\u001b[0m\u001b[37m\u001b[0m \u001b[1m0s\u001b[0m 145ms/step\n",
      "Predicted digit: 6\n"
     ]
    },
    {
     "data": {
      "text/plain": [
       "np.int64(6)"
      ]
     },
     "execution_count": 1,
     "metadata": {},
     "output_type": "execute_result"
    }
   ],
   "source": [
    "from tensorflow.keras.models import load_model\n",
    "from tensorflow.keras.preprocessing import image\n",
    "import numpy as np\n",
    "import cv2\n",
    "\n",
    "# Load the saved model\n",
    "model = load_model(\"mnist_digit_classifier.h5\")\n",
    "\n",
    "def predict_digit(img_path):\n",
    "    # Load the image in grayscale\n",
    "    img = cv2.imread(img_path, cv2.IMREAD_GRAYSCALE)\n",
    "    \n",
    "    # Resize to 28x28\n",
    "    img = cv2.resize(img, (28, 28))\n",
    "    cv2.imwrite(\"resized.jpg\", img)\n",
    "    # Invert colors if background is white (MNIST digits are white on black)\n",
    "    if np.mean(img) > 127:\n",
    "        img = 255 - img\n",
    "\n",
    "    # Normalize and reshape\n",
    "    img = img.astype(\"float32\") / 255.0\n",
    "    img = img.reshape(1, 784)  # Flatten to match the model’s input\n",
    "    \n",
    "    # Predict\n",
    "    prediction = model.predict(img)\n",
    "    predicted_digit = np.argmax(prediction)\n",
    "    \n",
    "    print(f\"Predicted digit: {predicted_digit}\")\n",
    "    return predicted_digit\n",
    "\n",
    "# Prediction \n",
    "predict_digit(\"7v2.jpg\")\n"
   ]
  },
  {
   "cell_type": "code",
   "execution_count": null,
   "id": "87bbf4ba",
   "metadata": {},
   "outputs": [],
   "source": []
  },
  {
   "cell_type": "code",
   "execution_count": null,
   "id": "980602bd",
   "metadata": {},
   "outputs": [],
   "source": []
  }
 ],
 "metadata": {
  "kernelspec": {
   "display_name": "EpochDevWKS1",
   "language": "python",
   "name": "python3"
  },
  "language_info": {
   "codemirror_mode": {
    "name": "ipython",
    "version": 3
   },
   "file_extension": ".py",
   "mimetype": "text/x-python",
   "name": "python",
   "nbconvert_exporter": "python",
   "pygments_lexer": "ipython3",
   "version": "3.9.24"
  }
 },
 "nbformat": 4,
 "nbformat_minor": 5
}
